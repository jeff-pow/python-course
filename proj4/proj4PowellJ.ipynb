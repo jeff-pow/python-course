{
 "cells": [
  {
   "cell_type": "code",
   "execution_count": 33,
   "metadata": {},
   "outputs": [],
   "source": [
    "# Jeff Powell\n",
    "# 11/29/23\n",
    "# Notebook explores possible uses for the itertools module of the python standard\n",
    "# library, and its extensions with the more-itertools package\n",
    "# CSC295"
   ]
  },
  {
   "cell_type": "code",
   "execution_count": 34,
   "metadata": {},
   "outputs": [],
   "source": [
    "# Imperative programming is perhaps the most commonly taught style of programming. It requires users\n",
    "# To handle explicit storage of variables, changing of value, and often includes indexing into collections.\n",
    "# Despite this, lots of times, imperative programming can become complex and the implementation \n",
    "# of code can begin to hide the intention of the programmer. Functional programming is a different\n",
    "# style of coding that can allow programmers to express intent more directly and concisely, while\n",
    "# readers can have a clearer indication of what the programmer was attempting to accomplish.\n",
    "# Functional programming focuses on using functions that do not mutate their parameters as well as\n",
    "# using a construct called iterators to act on data structures rather than keeping track of indicies everywhere.\n",
    "# Itertools and more-itertools express ways for programmers to act on a collection and extract information\n",
    "# from it. More-itertools was first released in April, 2012. It is currently on version 10.1 which was\n",
    "# released in August, 2023. This package would pair very well with the functools package to enable more\n",
    "# functional programming constructs."
   ]
  },
  {
   "cell_type": "code",
   "execution_count": 35,
   "metadata": {},
   "outputs": [],
   "source": [
    "import sys\n",
    "import itertools\n",
    "import more_itertools as mit"
   ]
  },
  {
   "cell_type": "code",
   "execution_count": 36,
   "metadata": {},
   "outputs": [
    {
     "name": "stdout",
     "output_type": "stream",
     "text": [
      "18\n",
      "18\n",
      "\n",
      "0\n",
      "0\n"
     ]
    }
   ],
   "source": [
    "# This is a contrived example that takes in two integers. If bottom is greater than top, zero is\n",
    "# returned. Otherwise, the function inclusively iterates over the range of numbers between bottom\n",
    "# and top, and accumulates the even ones. It is not terribly complicated, but as the conditions\n",
    "# grow more complex, it will get longer and longer\n",
    "def calculate(bottom: int, top: int):\n",
    "    if top > bottom:\n",
    "        sum = 0\n",
    "        for i in range(bottom, top + 1):\n",
    "            if i % 2 == 0:\n",
    "                sum += i\n",
    "        return sum\n",
    "\n",
    "    else:\n",
    "        return 0\n",
    "\n",
    "\n",
    "# This function preforms the same operation as the previous function, but in a functional manner\n",
    "# with itertools.\n",
    "def calculate_iter(bottom: int, top: int):\n",
    "    if top > bottom:\n",
    "        # This function is a comparator that returns true if a number is even. It could easily\n",
    "        # and clearly be modified if more restrictions were placed on the numbers that should be\n",
    "        # accumulated.\n",
    "        keyfunc = lambda x: x % 2\n",
    "        # The map_reduce function takes in an iterable as the first parameter, the filtering function\n",
    "        # as the 'keyfunc' parameter, and reducefunc reduces the result. Map_reduce returns a dictionary\n",
    "        # with keys of possible results to the keyfunc parameter, and values in this case of the summed\n",
    "        # even numbers in the range since we specified sum as the reducefunc. The dictionary also\n",
    "        # contains the odd numbers in the range summed as the value to the other key in the dict.\n",
    "        filtered = mit.map_reduce(range(bottom, top + 1), keyfunc, reducefunc=sum)\n",
    "        # We return the value at key 0 since we want even numbers\n",
    "        return filtered[0]\n",
    "    else:\n",
    "        return 0\n",
    "\n",
    "print(calculate(4, 8))\n",
    "print(calculate_iter(4, 8))\n",
    "print()\n",
    "print(calculate(8, 4))\n",
    "print(calculate_iter(8, 4))"
   ]
  },
  {
   "cell_type": "code",
   "execution_count": 37,
   "metadata": {},
   "outputs": [
    {
     "name": "stdout",
     "output_type": "stream",
     "text": [
      "(42, [10, 5, 2, 25])\n",
      "(42, (10, 5, 2, 25))\n"
     ]
    }
   ],
   "source": [
    "# Another problem that can easily be solved with more-itertools is problems that require iterating \n",
    "# through \"windows\" of a collection. For example, if I have a list [1, 2, 3, 4, 5] and I want windows\n",
    "# of three elements each, the iterator would sequentially return [1, 2, 3], [2, 3, 4], and [3, 4, 5].\n",
    "# In this example the functions will calculate the highest sum of four consecutive elements.\n",
    "\n",
    "data = [2, 5, 7, 1, 9, 4, 12, 10, 5, 2, 25]\n",
    "WINDOW_SIZE = 4\n",
    "\n",
    "def max_sum(data: list[int]):\n",
    "    # We have to have explicit tracking variables for the current max sum and window found\n",
    "    max = -sys.maxsize\n",
    "    max_window = []\n",
    "    # The code for creating these windows is very prone to off by one errors and mental load by readers\n",
    "    for i in range(len(data) - (WINDOW_SIZE - 1)):\n",
    "        window = []\n",
    "        for j in range(WINDOW_SIZE):\n",
    "            window.append(data[i + j])\n",
    "\n",
    "        sum = 0\n",
    "        for element in window:\n",
    "            sum += element\n",
    "        if sum > max:\n",
    "            max_window = window\n",
    "            max = sum\n",
    "    return (max, max_window)\n",
    "\n",
    "\n",
    "def max_sum_functional(data: list[int]):\n",
    "    # The windowed function simply requires an argument of window size. Furthermore, if the\n",
    "    # spacing between windows should change, the windowed method can take an argument to modify\n",
    "    # that value as well as opposed to the imperative code which would have to be largely rewritten.\n",
    "    windows = mit.windowed(data, WINDOW_SIZE)\n",
    "    # The max function returns the largest element found, with the key value specififying we want the\n",
    "    # largest element by nature of the summed window.\n",
    "    w = max(windows, key=sum)\n",
    "    return (sum(w), w)\n",
    "\n",
    "# Interestingly, the windowed method returns a tuple instead of a list as was created in the imperative        \n",
    "# code. This works to ensure the user cannot change the data of the window, and mistake changing\n",
    "# the window for changing the underlying data or something similar.\n",
    "print(max_sum(data))\n",
    "print(max_sum_functional(data))"
   ]
  },
  {
   "cell_type": "code",
   "execution_count": 38,
   "metadata": {},
   "outputs": [
    {
     "name": "stdout",
     "output_type": "stream",
     "text": [
      "['James', 'John', 'Joshua']\n",
      "['James', 'John', 'Joshua']\n"
     ]
    }
   ],
   "source": [
    "# A third example could be removing the names in a list that start with a certain letter, and then returning\n",
    "# names that match that criteria with their first letter upper-case\n",
    "\n",
    "NAMES = [\"james\", \"robert\", \"john\", \"michael\", \"david\", \"joshua\"]\n",
    "TARGET_LETTER = 'J'\n",
    "\n",
    "def filter_names(data: list[str], target_letter: str):\n",
    "    new_list = []\n",
    "    for name in data:\n",
    "        if name[0].upper() == target_letter:\n",
    "            changed_name = name[0].upper() + name[1:]\n",
    "            new_list.append(changed_name)\n",
    "    return new_list\n",
    "\n",
    "\n",
    "def filter_names_functional(data: list[str], target_letter: str):\n",
    "    # We are interested in letters where the first letter is J. \n",
    "    # Calling upper ensures it does not matter what case the user inputs\n",
    "    keyfunc = lambda x: x[0].upper() == target_letter\n",
    "    # Transform the resulting names by making the first letter uppercase\n",
    "    # Another benefit is individuals familiar with this coding style know\n",
    "    # exactly where to look for how the data is being transformed, as it\n",
    "    # is performed in one consistent place.\n",
    "    valuefunc = lambda x: x[0].upper() + x[1:]\n",
    "    # Map_reduce is a phenomenally useful function because of just how often in programming the act\n",
    "    # of taking a collection, changing the data type, and then modifying or summarizing the output\n",
    "    filtered_names = mit.map_reduce(data, keyfunc, valuefunc)\n",
    "    return filtered_names[True]\n",
    "\n",
    "\n",
    "print(filter_names(NAMES, TARGET_LETTER))\n",
    "print(filter_names_functional(NAMES, TARGET_LETTER))\n"
   ]
  },
  {
   "cell_type": "code",
   "execution_count": 39,
   "metadata": {},
   "outputs": [
    {
     "name": "stdout",
     "output_type": "stream",
     "text": [
      "[1, 0, 2, 3, 4, 6, 8, 9, 12]\n",
      "[1, 0, 2, 3, 4, 6, 8, 9, 12]\n"
     ]
    }
   ],
   "source": [
    "# A final example involves interleaving data. I know that this is important in the field of neural networks,\n",
    "# as if too much data in a row comes from one source of data it can cause the neural network to overfit\n",
    "# to one particular aspect of its feature set. A worry doing this imperatively is ensuring that if one list\n",
    "# is shorter than the other, it is important to pull the rest of the elements from the second list into the final \n",
    "# collection.\n",
    "\n",
    "LEFT = [1, 2, 4, 8]\n",
    "RIGHT = [0, 3, 6, 9, 12]\n",
    "\n",
    "def interleave(left: list[int], right: list[int]):\n",
    "    left_len = len(left)\n",
    "    right_len = len(right)\n",
    "    min_len = min(left_len, right_len)\n",
    "    result = []\n",
    "    for i in tuple(zip(left, right)):\n",
    "        # The zip function can be used to tie together two lists into an object that yields one element from each\n",
    "        # collection at a time until one is exhausted\n",
    "        result.append(i[0])\n",
    "        result.append(i[1])\n",
    "    # The \"until one collection is exhausted\" behavior of zipping means we have to use this next chunk of code to \n",
    "    # append the rest of the remaining collection to the result. And this would only get more complex as there are\n",
    "    # more collections, unlike more-itertool's interleave_longest function which simply takes collections as its \n",
    "    # parameters and returns the single list you want\n",
    "    if min_len == left_len:\n",
    "        for i in right[min_len:]:\n",
    "            result.append(i)\n",
    "    else:\n",
    "        for i in left[min_len:]:\n",
    "            result.append(i)\n",
    "    return result\n",
    "\n",
    "def interleave_functional(left: list[int], right: list[int]):\n",
    "    return list(mit.interleave_longest(left, right))\n",
    "\n",
    "print(interleave(LEFT, RIGHT))\n",
    "print(interleave_functional(LEFT, RIGHT))"
   ]
  },
  {
   "cell_type": "code",
   "execution_count": 40,
   "metadata": {},
   "outputs": [],
   "source": [
    "# I found the documentation for this package very good. It has very usable code examples with good\n",
    "# explanations for how the methods work and what each parameter for the functions does. Overall,\n",
    "# this is a very generally useful package. Many projects will not find much use for it as they will\n",
    "# find what little data transformation they need in other libraries or modules, but for projects that\n",
    "# are implementing lots of logic in native python, this can be a very useful tool. The main drawback\n",
    "# is that its technically not really necessary. Most of the time, imperatively written code will do\n",
    "# just fine, and has the benefit of allowing a wider audience to read it. It takes a different style\n",
    "# of thinking to read and write functional code compared to imperatively written code, which many people\n",
    "# shouldn't be expected to have experience with."
   ]
  },
  {
   "cell_type": "code",
   "execution_count": 41,
   "metadata": {},
   "outputs": [],
   "source": [
    "# Web Resources\n",
    "# - https://more-itertools.readthedocs.io/en/stable/api.html?highlight=distinct_permutation#augmenting\n",
    "# - https://docs.python.org/3/howto/functional.html\n",
    "# - https://realpython.com/python-itertools/"
   ]
  }
 ],
 "metadata": {
  "kernelspec": {
   "display_name": "Python 3",
   "language": "python",
   "name": "python3"
  },
  "language_info": {
   "codemirror_mode": {
    "name": "ipython",
    "version": 3
   },
   "file_extension": ".py",
   "mimetype": "text/x-python",
   "name": "python",
   "nbconvert_exporter": "python",
   "pygments_lexer": "ipython3",
   "version": "3.11.6"
  }
 },
 "nbformat": 4,
 "nbformat_minor": 2
}
